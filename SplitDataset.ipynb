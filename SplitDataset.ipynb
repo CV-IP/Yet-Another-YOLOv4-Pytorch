{
 "cells": [
  {
   "cell_type": "code",
   "execution_count": 1,
   "metadata": {},
   "outputs": [],
   "source": [
    "from pathlib import Path\n",
    "import numpy as np"
   ]
  },
  {
   "cell_type": "code",
   "execution_count": 2,
   "metadata": {},
   "outputs": [],
   "source": [
    "TRAIN_PCT = 0.8"
   ]
  },
  {
   "cell_type": "code",
   "execution_count": 13,
   "metadata": {},
   "outputs": [],
   "source": [
    "all_labels = []\n",
    "\n",
    "for date_path in Path(\"labels\").iterdir():\n",
    "    for augs_path in date_path.iterdir():\n",
    "        with open(augs_path, 'r') as f:\n",
    "            labels = f.readlines()\n",
    "            for label in labels:\n",
    "                img_name = label.strip().split(\"/\")[-1]\n",
    "                splitted_path = str(augs_path).split(\"\\\\\")\n",
    "                splitted_path[0] = \"images\"\n",
    "                splitted_path.append(img_name)\n",
    "                all_labels.append(\"/\".join(splitted_path))"
   ]
  },
  {
   "cell_type": "code",
   "execution_count": 14,
   "metadata": {},
   "outputs": [],
   "source": [
    "train_idx = int(len(all_labels) * TRAIN_PCT)"
   ]
  },
  {
   "cell_type": "code",
   "execution_count": 15,
   "metadata": {},
   "outputs": [],
   "source": [
    "random_ids = np.random.permutation(np.arange(len(all_labels)))"
   ]
  },
  {
   "cell_type": "code",
   "execution_count": 16,
   "metadata": {},
   "outputs": [],
   "source": [
    "train_labels = [label for i, label in enumerate(all_labels) if i in random_ids[:train_idx]]\n",
    "valid_labels = [label for i, label in enumerate(all_labels) if i in random_ids[train_idx:]]"
   ]
  },
  {
   "cell_type": "code",
   "execution_count": 17,
   "metadata": {},
   "outputs": [],
   "source": [
    "with open(\"train.txt\", \"w\") as tf:\n",
    "    tf.write(\"\\n\".join(train_labels))"
   ]
  },
  {
   "cell_type": "code",
   "execution_count": 18,
   "metadata": {},
   "outputs": [],
   "source": [
    "with open(\"valid.txt\", \"w\") as vf:\n",
    "    vf.write(\"\\n\".join(valid_labels))"
   ]
  },
  {
   "cell_type": "code",
   "execution_count": null,
   "metadata": {},
   "outputs": [],
   "source": []
  }
 ],
 "metadata": {
  "kernelspec": {
   "display_name": "Python 3",
   "language": "python",
   "name": "python3"
  },
  "language_info": {
   "codemirror_mode": {
    "name": "ipython",
    "version": 3
   },
   "file_extension": ".py",
   "mimetype": "text/x-python",
   "name": "python",
   "nbconvert_exporter": "python",
   "pygments_lexer": "ipython3",
   "version": "3.7.7-final"
  }
 },
 "nbformat": 4,
 "nbformat_minor": 4
}