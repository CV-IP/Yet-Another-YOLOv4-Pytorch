{
 "cells": [
  {
   "cell_type": "code",
   "execution_count": null,
   "metadata": {},
   "outputs": [],
   "source": [
    "from pl_model import YOLOv4PL"
   ]
  },
  {
   "cell_type": "code",
   "execution_count": null,
   "metadata": {},
   "outputs": [],
   "source": [
    "import pytorch_lightning as pl\n",
    "from argparse import Namespace\n",
    "from pytorch_lightning.callbacks import LearningRateLogger"
   ]
  },
  {
   "cell_type": "code",
   "execution_count": null,
   "metadata": {},
   "outputs": [],
   "source": [
    "hparams = {\n",
    "    \"pretrained\" : False,\n",
    "    \"train_ds\" : \"train.txt\",\n",
    "    \"valid_ds\" : \"valid.txt\",\n",
    "    \"bs\" : 1,\n",
    "    \"momentum\": 0.9,\n",
    "    \"wd\": 0.001,\n",
    "    \"lr\": 1e-8,\n",
    "    \"epochs\" : 100,\n",
    "    \"pct_start\" : 10/100,\n",
    "    \n",
    "    \"optimizer\" : \"Ranger\",\n",
    "    \"flat_epochs\" : 50,\n",
    "    \"cosine_epochs\" : 25,\n",
    "    \"scheduler\" : \"Cosine Delayed\", \n",
    "    \n",
    "    \"SAT\" : False,\n",
    "    \"epsilon\" : 0.1,\n",
    "    \"SAM\" : False,\n",
    "    \"ECA\" : False,\n",
    "    \"WS\" : False,\n",
    "    \"Dropblock\" : False,\n",
    "    \"iou_aware\" : False,\n",
    "    \"coord\" : False,\n",
    "    \"hard_mish\" : False,\n",
    "    \"asff\" : False,\n",
    "    \"repulsion_loss\" : True,\n",
    "}"
   ]
  },
  {
   "cell_type": "code",
   "execution_count": null,
   "metadata": {},
   "outputs": [],
   "source": [
    "hparams = Namespace(**hparams)\n",
    "m = YOLOv4PL(hparams)"
   ]
  },
  {
   "cell_type": "code",
   "execution_count": null,
   "metadata": {},
   "outputs": [],
   "source": [
    "m.cpu();"
   ]
  },
  {
   "cell_type": "code",
   "execution_count": null,
   "metadata": {},
   "outputs": [],
   "source": [
    "tb_logger = pl.loggers.TensorBoardLogger('logs/', name = \"yolov4\")"
   ]
  },
  {
   "cell_type": "code",
   "execution_count": null,
   "metadata": {},
   "outputs": [],
   "source": [
    "checkpoint_callback = pl.callbacks.ModelCheckpoint(\n",
    "    filepath='model_checkpoints/yolov4{epoch:02d}',\n",
    "    verbose=True,\n",
    "    monitor=\"training_loss_epoch\",\n",
    "    mode='min',\n",
    ")"
   ]
  },
  {
   "cell_type": "code",
   "execution_count": null,
   "metadata": {},
   "outputs": [],
   "source": [
    "t = pl.Trainer(logger = tb_logger,\n",
    "           checkpoint_callback=checkpoint_callback,\n",
    "           gpus=0,\n",
    "           precision=32,\n",
    "           benchmark=True,\n",
    "           callbacks=[LearningRateLogger()],\n",
    "           min_epochs=100,\n",
    "\n",
    "\n",
    "#            resume_from_checkpoint=\"model_checkpoints/yolov4epoch=82.ckpt\",\n",
    "        #    auto_lr_find=True,\n",
    "          #  auto_scale_batch_size='binsearch',\n",
    "        #    fast_dev_run=True\n",
    "          )\n"
   ]
  },
  {
   "cell_type": "code",
   "execution_count": null,
   "metadata": {},
   "outputs": [],
   "source": [
    "r = t.lr_find(m, min_lr=1e-10, max_lr=1, early_stop_threshold=None)\n",
    "r.plot()"
   ]
  },
  {
   "cell_type": "code",
   "execution_count": null,
   "metadata": {},
   "outputs": [],
   "source": [
    "t.fit(m)"
   ]
  },
  {
   "cell_type": "code",
   "execution_count": null,
   "metadata": {},
   "outputs": [],
   "source": []
  }
 ],
 "metadata": {
  "kernelspec": {
   "display_name": "Python 3",
   "language": "python",
   "name": "python3"
  },
  "language_info": {
   "codemirror_mode": {
    "name": "ipython",
    "version": 3
   },
   "file_extension": ".py",
   "mimetype": "text/x-python",
   "name": "python",
   "nbconvert_exporter": "python",
   "pygments_lexer": "ipython3",
   "version": "3.7.7"
  }
 },
 "nbformat": 4,
 "nbformat_minor": 4
}
